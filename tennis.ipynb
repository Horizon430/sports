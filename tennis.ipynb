{
 "cells": [
  {
   "cell_type": "code",
   "execution_count": 2,
   "id": "7e3ca528",
   "metadata": {},
   "outputs": [
    {
     "data": {
      "image/png": "[encoded data removed]",
      "text/plain": [
       "<Figure size 432x288 with 1 Axes>"
      ]
     },
     "metadata": {
      "needs_background": "light"
     },
     "output_type": "display_data"
    }
   ],
   "source": [
    "#tennis court\n",
    "import matplotlib.pyplot as plt\n",
    "fig=plt.figure()\n",
    "ax=fig.add_subplot(1,1,1)\n",
    "\n",
    "#background color\n",
    "plt.rcParams['axes.facecolor']='tab:blue'\n",
    "\n",
    "#out side of court\n",
    "plt.plot([0,0],[0,46],color=\"white\")\n",
    "plt.plot([0,88],[46,46],color=\"white\")\n",
    "plt.plot([88,88],[46,0],color=\"white\")\n",
    "plt.plot([0,88],[0,0],color=\"white\")\n",
    "\n",
    "#court\n",
    "\n",
    "plt.plot([5,5],[5,41], color=\"white\")\n",
    "plt.plot([5,83],[41,41], color=\"white\")\n",
    "plt.plot([5,83],[5,5], color=\"white\")\n",
    "plt.plot([83,83],[5,41], color=\"white\")\n",
    "\n",
    "plt.plot([5,83],[36.5,36.5], color=\"white\")\n",
    "plt.plot([5,83],[9.5,9.5], color=\"white\")\n",
    "plt.plot([23,23],[9.5,36.5], color=\"white\")\n",
    "plt.plot([65,65],[9.5,36.5], color=\"white\")\n",
    "\n",
    "plt.plot([23,65],[23,23], color=\"white\")\n",
    "plt.plot([44,44],[5,41], color=\"white\")\n",
    "\n",
    "\n",
    "ax.get_xaxis().set_visible(False)\n",
    "ax.get_yaxis().set_visible(False)\n",
    "plt.savefig(\"tennis.png\")\n",
    "plt.show()\n"
   ]
  },
  {
   "cell_type": "code",
   "execution_count": null,
   "id": "16ac395f",
   "metadata": {},
   "outputs": [],
   "source": []
  }
 ],
 "metadata": {
  "kernelspec": {
   "display_name": "Python 3 (ipykernel)",
   "language": "python",
   "name": "python3"
  },
  "language_info": {
   "codemirror_mode": {
    "name": "ipython",
    "version": 3
   },
   "file_extension": ".py",
   "mimetype": "text/x-python",
   "name": "python",
   "nbconvert_exporter": "python",
   "pygments_lexer": "ipython3",
   "version": "3.9.12"
  }
 },
 "nbformat": 4,
 "nbformat_minor": 5
}
